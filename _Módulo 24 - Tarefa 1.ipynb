{
 "cells": [
  {
   "cell_type": "markdown",
   "id": "4fdc4c0e",
   "metadata": {},
   "source": [
    "# Módulo 24 - Tarefa 01"
   ]
  },
  {
   "cell_type": "markdown",
   "id": "74c7cc55",
   "metadata": {},
   "source": [
    "- Cite 5 diferenças entre o Random Forest e o AdaBoost\n",
    "\n",
    "- Acesse o link Scikit-learn - adaboost, leia a explicação (traduza se for preciso) e crie um jupyter notebook contendo o exemplo do AdaBoost\n",
    "\n",
    "- Cite 5 Hyperparametros importantes no AdaBoost"
   ]
  },
  {
   "cell_type": "markdown",
   "id": "47e3c104",
   "metadata": {},
   "source": [
    "### 1. Árvores de Decisão vs Tocos de Decisão\n"
   ]
  },
  {
   "cell_type": "markdown",
   "id": "c2048ec9",
   "metadata": {},
   "source": [
    "Random Forest faz uso de diversas árvores de decisão que possuem profundidades variadas. Já o AdaBoost utiliza tocos (Stumps) de decisão, que nada mais são do que árvores de decisão com um nó e duas folhas apenas."
   ]
  },
  {
   "cell_type": "markdown",
   "id": "5e4cfb2d",
   "metadata": {},
   "source": [
    "### Amostragem de Dados"
   ]
  },
  {
   "cell_type": "markdown",
   "id": "cc5446cd",
   "metadata": {},
   "source": [
    "Ambos os métodos utilizam amostragem de dados, porém diferem um pouco em cada caso. Random Forest utiliza o Bagging na amostra principal para seleção das amostras para as árvores de decisão. No AdaBoost cada toco de decisão tem uma amostra que depende do resultado do toco anterior devido ao sistema de pesos que existe neste modelo."
   ]
  },
  {
   "cell_type": "markdown",
   "id": "0946b5fc",
   "metadata": {},
   "source": [
    "**Pesos**"
   ]
  },
  {
   "cell_type": "markdown",
   "id": "6aa3406b",
   "metadata": {},
   "source": [
    "No Random Forest as decisões tomadas por cada árvore possuem o mesmo peso na decisão final, já no AdaBoost o peso de cada toco pode variar, sendo que alguns tocos terão mais peso na decisão final do que outros."
   ]
  },
  {
   "cell_type": "markdown",
   "id": "6881abe4",
   "metadata": {},
   "source": [
    "**Ordem das Árvores**"
   ]
  },
  {
   "cell_type": "markdown",
   "id": "2686967a",
   "metadata": {},
   "source": [
    "No Random Forest as árvores de decisão são geradas de maneira independente uma das outras. No AdaBoost cada toco de decisão sofre influencia dos erros cometidos no toco de decisão anterior."
   ]
  },
  {
   "cell_type": "markdown",
   "id": "d8570371",
   "metadata": {},
   "source": [
    "**Precisão da Classificação**"
   ]
  },
  {
   "cell_type": "markdown",
   "id": "e29017ef",
   "metadata": {},
   "source": [
    "Random Forest geralmente acaba sendo mais preciso em modelos de classificação por utilizar mais de uma variável explicativa no modelo, em contraste ao AdaBoost que utiliza apenas uma variável explicativa por toco de decisão."
   ]
  },
  {
   "cell_type": "markdown",
   "id": "8b41b20b",
   "metadata": {},
   "source": [
    "# 2.\n"
   ]
  },
  {
   "cell_type": "code",
   "execution_count": 1,
   "id": "c251f95e",
   "metadata": {},
   "outputs": [],
   "source": [
    "from sklearn.model_selection import cross_val_score\n",
    "from sklearn.datasets import load_iris\n",
    "from sklearn.ensemble import AdaBoostClassifier\n",
    "from sklearn.datasets import load_iris\n",
    "from sklearn.model_selection import GridSearchCV, RepeatedStratifiedKFold\n",
    "from sklearn.pipeline import make_pipeline\n",
    "from sklearn.preprocessing import StandardScaler"
   ]
  },
  {
   "cell_type": "code",
   "execution_count": 2,
   "id": "e8dbd320",
   "metadata": {},
   "outputs": [],
   "source": [
    "X, y = load_iris(return_X_y=True)\n",
    "clf = AdaBoostClassifier(n_estimators=100)"
   ]
  },
  {
   "cell_type": "code",
   "execution_count": 3,
   "id": "c54014fa",
   "metadata": {},
   "outputs": [],
   "source": [
    "scores = cross_val_score(clf, X, y, cv=5)"
   ]
  },
  {
   "cell_type": "code",
   "execution_count": 4,
   "id": "259e1f90",
   "metadata": {},
   "outputs": [
    {
     "data": {
      "text/plain": [
       "0.9466666666666665"
      ]
     },
     "execution_count": 4,
     "metadata": {},
     "output_type": "execute_result"
    }
   ],
   "source": [
    "scores.mean()\n"
   ]
  },
  {
   "cell_type": "markdown",
   "id": "d606098d",
   "metadata": {},
   "source": [
    "# 3.\n"
   ]
  },
  {
   "cell_type": "markdown",
   "id": "263fd122",
   "metadata": {},
   "source": [
    "**base_estimator**"
   ]
  },
  {
   "cell_type": "markdown",
   "id": "8ade803f",
   "metadata": {},
   "source": [
    "Estimador base utilizado. Se None, então o estimador base é max_depth=1."
   ]
  },
  {
   "cell_type": "markdown",
   "id": "c54e8e9c",
   "metadata": {},
   "source": [
    "**n_estimators**"
   ]
  },
  {
   "cell_type": "markdown",
   "id": "108673e0",
   "metadata": {},
   "source": [
    "Número de estimadores no qual o boosting será realizado. Em caso de ajuste perfeito o processo de aprendizagem é interrompido precocemente."
   ]
  },
  {
   "cell_type": "markdown",
   "id": "fd1ef7f8",
   "metadata": {},
   "source": [
    "**learning_rate**"
   ]
  },
  {
   "cell_type": "markdown",
   "id": "9c944b85",
   "metadata": {},
   "source": [
    "Peso aplicado a cada classificador em cada iteração do boosting."
   ]
  },
  {
   "cell_type": "markdown",
   "id": "d1990233",
   "metadata": {},
   "source": [
    "**algorithm**"
   ]
  },
  {
   "cell_type": "markdown",
   "id": "3bc761dd",
   "metadata": {},
   "source": [
    "Tipo do algoritmo boosting utilizado, escolha entre 'SAMME.R' e 'SAMME'."
   ]
  },
  {
   "cell_type": "markdown",
   "id": "fbb52141",
   "metadata": {},
   "source": [
    "**random_state**"
   ]
  },
  {
   "cell_type": "markdown",
   "id": "aceffc59",
   "metadata": {},
   "source": [
    "Permite controlar a seed aleatória dada a cada base_estimator em cada iteração do boosting.\n",
    "\n"
   ]
  },
  {
   "cell_type": "code",
   "execution_count": null,
   "id": "1379f8a2",
   "metadata": {},
   "outputs": [],
   "source": []
  }
 ],
 "metadata": {
  "kernelspec": {
   "display_name": "Python 3 (ipykernel)",
   "language": "python",
   "name": "python3"
  },
  "language_info": {
   "codemirror_mode": {
    "name": "ipython",
    "version": 3
   },
   "file_extension": ".py",
   "mimetype": "text/x-python",
   "name": "python",
   "nbconvert_exporter": "python",
   "pygments_lexer": "ipython3",
   "version": "3.9.12"
  }
 },
 "nbformat": 4,
 "nbformat_minor": 5
}
